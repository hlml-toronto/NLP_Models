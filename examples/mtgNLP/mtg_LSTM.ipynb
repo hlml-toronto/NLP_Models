{
 "cells": [
  {
   "cell_type": "markdown",
   "metadata": {},
   "source": [
    "# LSTM for generating flavour text from MtG cards\n",
    "\n",
    "- based on the tutorial at https://machinetalk.org/2019/02/08/text-generation-with-pytorch/\n",
    "\n",
    "In this notebook we will implement an LSTM to generate flavour text from Magic the Gathering cards."
   ]
  },
  {
   "cell_type": "code",
   "execution_count": 33,
   "metadata": {},
   "outputs": [],
   "source": [
    "import torch\n",
    "import torch.nn as nn\n",
    "import torch.nn.functional as F\n",
    "\n",
    "import numpy as np\n",
    "from collections import Counter\n",
    "import os\n",
    "from argparse import Namespace\n",
    "\n",
    "import numpy as np\n",
    "import matplotlib.pyplot as plt"
   ]
  },
  {
   "cell_type": "code",
   "execution_count": 34,
   "metadata": {},
   "outputs": [],
   "source": [
    "corpus_path = os.path.join(os.getcwd(), 'FlavorText', 'flavortext_corpus.txt')\n",
    "\n",
    "flags = Namespace(\n",
    "    train_file=corpus_path,\n",
    "    seq_size=32,\n",
    "    batch_size=16,\n",
    "    embedding_size=64,\n",
    "    lstm_size=64,\n",
    "    gradients_norm=5,\n",
    "    initial_words=['I', 'am'],\n",
    "    predict_top_k=5,\n",
    "    checkpoint_path='checkpoint',\n",
    "    num_epoch=1000\n",
    ")"
   ]
  },
  {
   "cell_type": "markdown",
   "metadata": {},
   "source": [
    "## Data Preprocessing\n",
    "\n",
    "We need to tokenize our data (i.e. express words as numbers)."
   ]
  },
  {
   "cell_type": "code",
   "execution_count": 35,
   "metadata": {},
   "outputs": [],
   "source": [
    "def get_data_from_file(train_file, batch_size, seq_size):\n",
    "    with open(train_file, 'r') as f:\n",
    "        text = f.read()\n",
    "    text = text.split()\n",
    "\n",
    "    word_counts = Counter(text)\n",
    "    sorted_vocab = sorted(word_counts, key=word_counts.get, reverse=True)\n",
    "    int_to_vocab = {k: w for k, w in enumerate(sorted_vocab)}\n",
    "    vocab_to_int = {w: k for k, w in int_to_vocab.items()}\n",
    "    n_vocab = len(int_to_vocab)\n",
    "\n",
    "    print('Vocabulary size', n_vocab)\n",
    "\n",
    "    int_text = [vocab_to_int[w] for w in text]\n",
    "    num_batches = int(len(int_text) / (seq_size * batch_size))\n",
    "    in_text = int_text[:num_batches * batch_size * seq_size]\n",
    "    out_text = np.zeros_like(in_text)\n",
    "    out_text[:-1] = in_text[1:]\n",
    "    out_text[-1] = in_text[0]\n",
    "    in_text = np.reshape(in_text, (batch_size, -1))\n",
    "    out_text = np.reshape(out_text, (batch_size, -1))\n",
    "    return int_to_vocab, vocab_to_int, n_vocab, in_text, out_text\n",
    "\n",
    "\n",
    "def get_batches(in_text, out_text, batch_size, seq_size):\n",
    "    num_batches = np.prod(in_text.shape) // (seq_size * batch_size)\n",
    "    for i in range(0, num_batches * seq_size, seq_size):\n",
    "        yield in_text[:, i:i+seq_size], out_text[:, i:i+seq_size]"
   ]
  },
  {
   "cell_type": "markdown",
   "metadata": {},
   "source": [
    "## Set up the LSTM"
   ]
  },
  {
   "cell_type": "code",
   "execution_count": 36,
   "metadata": {},
   "outputs": [],
   "source": [
    "class RNNModule(nn.Module):\n",
    "    def __init__(self, n_vocab, seq_size, embedding_size, lstm_size):\n",
    "        super(RNNModule, self).__init__()\n",
    "        self.seq_size = seq_size\n",
    "        self.lstm_size = lstm_size\n",
    "        self.embedding = nn.Embedding(n_vocab, embedding_size)\n",
    "        self.lstm = nn.LSTM(embedding_size,\n",
    "                            lstm_size,\n",
    "                            batch_first=True)\n",
    "        self.dense = nn.Linear(lstm_size, n_vocab)\n",
    "        \n",
    "        \n",
    "    def forward(self, x, prev_state):\n",
    "        embed = self.embedding(x)\n",
    "        output, state = self.lstm(embed, prev_state)\n",
    "        logits = self.dense(output)\n",
    "\n",
    "        return logits, state\n",
    "   \n",
    "\n",
    "    def zero_state(self, batch_size):\n",
    "        return (torch.zeros(1, batch_size, self.lstm_size),\n",
    "                torch.zeros(1, batch_size, self.lstm_size))\n",
    "    "
   ]
  },
  {
   "cell_type": "code",
   "execution_count": 37,
   "metadata": {},
   "outputs": [],
   "source": [
    "def get_loss_and_train_op(net, lr=0.001):\n",
    "    criterion = nn.CrossEntropyLoss()\n",
    "    optimizer = torch.optim.Adam(net.parameters(), lr=lr)\n",
    "\n",
    "    return criterion, optimizer"
   ]
  },
  {
   "cell_type": "code",
   "execution_count": 38,
   "metadata": {},
   "outputs": [],
   "source": [
    "def predict(device, net, words, n_vocab, vocab_to_int, int_to_vocab, top_k=5):\n",
    "    net.eval()\n",
    "\n",
    "    state_h, state_c = net.zero_state(1)\n",
    "    state_h = state_h.to(device)\n",
    "    state_c = state_c.to(device)\n",
    "    for w in words:\n",
    "        ix = torch.tensor([[vocab_to_int[w]]]).to(device)\n",
    "        output, (state_h, state_c) = net(ix, (state_h, state_c))\n",
    "    \n",
    "    _, top_ix = torch.topk(output[0], k=top_k)\n",
    "    choices = top_ix.tolist()\n",
    "    choice = np.random.choice(choices[0])\n",
    "\n",
    "    words.append(int_to_vocab[choice])\n",
    "    \n",
    "    for _ in range(100):\n",
    "        ix = torch.tensor([[choice]]).to(device)\n",
    "        output, (state_h, state_c) = net(ix, (state_h, state_c))\n",
    "\n",
    "        _, top_ix = torch.topk(output[0], k=top_k)\n",
    "        choices = top_ix.tolist()\n",
    "        choice = np.random.choice(choices[0])\n",
    "        words.append(int_to_vocab[choice])\n",
    "\n",
    "    print(' '.join(words))"
   ]
  },
  {
   "cell_type": "markdown",
   "metadata": {},
   "source": [
    "## Train the LSTM"
   ]
  },
  {
   "cell_type": "code",
   "execution_count": 39,
   "metadata": {},
   "outputs": [],
   "source": [
    "def main():\n",
    "    device = torch.device('cuda' if torch.cuda.is_available() else 'cpu')\n",
    "    int_to_vocab, vocab_to_int, n_vocab, in_text, out_text = get_data_from_file(\n",
    "        flags.train_file, flags.batch_size, flags.seq_size)\n",
    "\n",
    "    net = RNNModule(n_vocab, flags.seq_size,\n",
    "                    flags.embedding_size, flags.lstm_size)\n",
    "    net = net.to(device)\n",
    "\n",
    "    criterion, optimizer = get_loss_and_train_op(net, 0.01)\n",
    "\n",
    "    iteration = 0\n",
    "    loss_history = []\n",
    "    \n",
    "    if not os.path.exists(os.path.join(os.getcwd(), 'checkpoint_pt')):\n",
    "        os.mkdir(os.path.join(os.getcwd(), 'checkpoint_pt'))\n",
    "    \n",
    "    for e in range(flags.num_epoch):\n",
    "        batches = get_batches(in_text, out_text, flags.batch_size, flags.seq_size)\n",
    "        state_h, state_c = net.zero_state(flags.batch_size)\n",
    "        \n",
    "        # Transfer data to GPU\n",
    "        state_h = state_h.to(device)\n",
    "        state_c = state_c.to(device)\n",
    "        for x, y in batches:\n",
    "            iteration += 1\n",
    "            \n",
    "            # Tell it we are in training mode\n",
    "            net.train()\n",
    "\n",
    "            # Reset all gradients\n",
    "            optimizer.zero_grad()\n",
    "\n",
    "            # Transfer data to GPU\n",
    "            x = torch.tensor(x).to(device)\n",
    "            y = torch.tensor(y).to(device)\n",
    "\n",
    "            logits, (state_h, state_c) = net(x, (state_h, state_c))\n",
    "            loss = criterion(logits.transpose(1, 2), y)\n",
    "\n",
    "            state_h = state_h.detach()\n",
    "            state_c = state_c.detach()\n",
    "\n",
    "            loss_value = loss.item()\n",
    "            loss_history.append(loss_value)\n",
    "\n",
    "            # Perform back-propagation\n",
    "            loss.backward()\n",
    "            \n",
    "            _ = torch.nn.utils.clip_grad_norm_(net.parameters(), flags.gradients_norm)\n",
    "\n",
    "            # Update the network's parameters\n",
    "            optimizer.step()\n",
    "            \n",
    "            \n",
    "            if iteration % 100 == 0:\n",
    "                print('Epoch: {}/{}'.format(e, flags.num_epoch),\n",
    "                      'Iteration: {}'.format(iteration),\n",
    "                      'Loss: {}'.format(loss_value))\n",
    "\n",
    "            if iteration % 1000 == 0:\n",
    "                predict(device, net, flags.initial_words, n_vocab,\n",
    "                        vocab_to_int, int_to_vocab, top_k=5)\n",
    "                torch.save(net.state_dict(),\n",
    "                           'checkpoint_pt/model-{}.pth'.format(iteration))\n",
    "                \n",
    "    # Plot training\n",
    "    fig, ax = plt.subplots(nrows=1, ncols=1)\n",
    "    plt.plot(loss_history)\n",
    "    plt.xlabel('Iteration')\n",
    "    plt.ylabel('Loss')\n",
    "    plt.show()"
   ]
  },
  {
   "cell_type": "code",
   "execution_count": 40,
   "metadata": {},
   "outputs": [
    {
     "name": "stdout",
     "output_type": "stream",
     "text": [
      "Vocabulary size 36878\n",
      "Epoch: 0/5 Iteration: 100 Loss: 7.5920586585998535\n",
      "Epoch: 0/5 Iteration: 200 Loss: 8.019594192504883\n",
      "Epoch: 0/5 Iteration: 300 Loss: 7.235413074493408\n",
      "Epoch: 0/5 Iteration: 400 Loss: 7.503942489624023\n",
      "Epoch: 1/5 Iteration: 500 Loss: 6.569126605987549\n",
      "Epoch: 1/5 Iteration: 600 Loss: 6.457633018493652\n",
      "Epoch: 1/5 Iteration: 700 Loss: 6.337305545806885\n",
      "Epoch: 1/5 Iteration: 800 Loss: 5.926801681518555\n",
      "Epoch: 1/5 Iteration: 900 Loss: 6.407848358154297\n",
      "Epoch: 2/5 Iteration: 1000 Loss: 5.880000591278076\n",
      "I am the same world. ---------- \"I do it is always that it was to find a single few and a matter of his own own side. edificer They are not for its eternal perfection. But he was the battlefield ---------- It was known to find its victims in the most world of his mind ---------- \"I have been the world of their victims have seen his one who would find the world and all a thousand Chieftain ---------- The Eldrazi can find their mind to be the world and all that I can be the first thing of their victims not always\n",
      "Epoch: 2/5 Iteration: 1100 Loss: 5.918168544769287\n",
      "Epoch: 2/5 Iteration: 1200 Loss: 5.644402027130127\n",
      "Epoch: 2/5 Iteration: 1300 Loss: 5.484335422515869\n",
      "Epoch: 2/5 Iteration: 1400 Loss: 5.393640041351318\n",
      "Epoch: 3/5 Iteration: 1500 Loss: 5.439346790313721\n",
      "Epoch: 3/5 Iteration: 1600 Loss: 5.121058940887451\n",
      "Epoch: 3/5 Iteration: 1700 Loss: 5.052335739135742\n",
      "Epoch: 3/5 Iteration: 1800 Loss: 4.925800323486328\n",
      "Epoch: 3/5 Iteration: 1900 Loss: 4.881805896759033\n",
      "Epoch: 4/5 Iteration: 2000 Loss: 5.126839637756348\n",
      "I am the same world. ---------- \"I do it is always that it was to find a single few and a matter of his own own side. edificer They are not for its eternal perfection. But he was the battlefield ---------- It was known to find its victims in the most world of his mind ---------- \"I have been the world of their victims have seen his one who would find the world and all a thousand Chieftain ---------- The Eldrazi can find their mind to be the world and all that I can be the first thing of their victims not always the most horribly, Only a place for their side. One day, from their own kind. —Mirri The Temur had a few tricks.\" The most enlightened master ---------- \"I do not feel the power in their subjects, of its atmosphere, pierced, the other way patrolled its prey. ---------- The light that is not for your scrolls?\" for your slave. ---------- \"The gods cannot know a single tantiv in their subjects, she to a small fire is a simple concept, around their forebears' culture.\" —Edahlis, —Dosan do not be tamed, in a handful will have been a little mood.\" —Zhosmir, ready that the\n",
      "Epoch: 4/5 Iteration: 2100 Loss: 4.761504173278809\n",
      "Epoch: 4/5 Iteration: 2200 Loss: 4.722434043884277\n",
      "Epoch: 4/5 Iteration: 2300 Loss: 4.552176475524902\n",
      "Epoch: 4/5 Iteration: 2400 Loss: 4.457324028015137\n"
     ]
    },
    {
     "data": {
      "image/png": "[encoded data removed]",
      "text/plain": [
       "<Figure size 432x288 with 1 Axes>"
      ]
     },
     "metadata": {
      "needs_background": "light"
     },
     "output_type": "display_data"
    }
   ],
   "source": [
    "if __name__ == '__main__':\n",
    "    main()"
   ]
  },
  {
   "cell_type": "code",
   "execution_count": null,
   "metadata": {},
   "outputs": [],
   "source": []
  }
 ],
 "metadata": {
  "kernelspec": {
   "display_name": "Python 3",
   "language": "python",
   "name": "python3"
  },
  "language_info": {
   "codemirror_mode": {
    "name": "ipython",
    "version": 3
   },
   "file_extension": ".py",
   "mimetype": "text/x-python",
   "name": "python",
   "nbconvert_exporter": "python",
   "pygments_lexer": "ipython3",
   "version": "3.7.5"
  }
 },
 "nbformat": 4,
 "nbformat_minor": 2
}
